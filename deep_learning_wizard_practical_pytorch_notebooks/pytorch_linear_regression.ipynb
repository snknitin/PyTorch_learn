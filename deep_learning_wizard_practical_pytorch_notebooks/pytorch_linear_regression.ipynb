{
 "cells": [
  {
   "cell_type": "markdown",
   "metadata": {},
   "source": [
    "# 6. Linear Regression with PyTorch\n",
    "## 1. About Linear Regression\n"
   ]
  },
  {
   "cell_type": "markdown",
   "metadata": {},
   "source": [
    "### 1.1 Simple Linear Regression Basics\n",
    "- Allows us to understand **relationship** between two **continuous variables**\n",
    "- Example\n",
    "    - x: independent variable\n",
    "        - weight\n",
    "    - y: dependent variable\n",
    "        - height\n",
    "- $y = \\alpha x + \\beta$"
   ]
  },
  {
   "cell_type": "markdown",
   "metadata": {},
   "source": [
    "### 1.2 Example of simple linear regression"
   ]
  },
  {
   "cell_type": "code",
   "execution_count": 1,
   "metadata": {},
   "outputs": [
    {
     "data": {
      "image/png": "[encoded data removed]",
      "text/plain": [
       "<matplotlib.figure.Figure at 0x7fd790b585c0>"
      ]
     },
     "metadata": {},
     "output_type": "display_data"
    }
   ],
   "source": [
    "import numpy as np\n",
    "import matplotlib.pyplot as plt\n",
    "%matplotlib inline\n",
    "\n",
    "np.random.seed(1)\n",
    "n = 50\n",
    "x = np.random.randn(n)\n",
    "y = x * np.random.randn(n)\n",
    "\n",
    "colors = np.random.rand(n)\n",
    "plt.plot(np.unique(x), np.poly1d(np.polyfit(x, y, 1))(np.unique(x)))\n",
    "\n",
    "plt.scatter(x, y, c=colors, alpha=0.5)\n",
    "plt.show()"
   ]
  },
  {
   "cell_type": "markdown",
   "metadata": {},
   "source": [
    "### 1.3 Aim of Linear Regression\n",
    "- Minimize the distance between the points and the line ($y = \\alpha x + \\beta$)\n",
    "- Adjusting\n",
    "    - Coefficient: $\\alpha$\n",
    "    - Bias/intercept: $\\beta$\n",
    "\n",
    "## 2. Building a Linear Regression Model with PyTorch\n",
    "\n",
    "### 2.1 Example\n",
    "- Coefficient: $\\alpha = 2$\n",
    "- Bias/intercept: $\\beta = 1$\n",
    "- Equation: $y = 2x + 1$"
   ]
  },
  {
   "cell_type": "markdown",
   "metadata": {},
   "source": [
    "### 2.2 Building a Toy Dataset"
   ]
  },
  {
   "cell_type": "code",
   "execution_count": 2,
   "metadata": {
    "collapsed": true
   },
   "outputs": [],
   "source": [
    "x_values = [i for i in range(11)]"
   ]
  },
  {
   "cell_type": "code",
   "execution_count": 3,
   "metadata": {},
   "outputs": [
    {
     "data": {
      "text/plain": [
       "[0, 1, 2, 3, 4, 5, 6, 7, 8, 9, 10]"
      ]
     },
     "execution_count": 3,
     "metadata": {},
     "output_type": "execute_result"
    }
   ],
   "source": [
    "x_values"
   ]
  },
  {
   "cell_type": "code",
   "execution_count": 4,
   "metadata": {},
   "outputs": [
    {
     "data": {
      "text/plain": [
       "(11,)"
      ]
     },
     "execution_count": 4,
     "metadata": {},
     "output_type": "execute_result"
    }
   ],
   "source": [
    "# Convert to numpy\n",
    "x_train = np.array(x_values, dtype=np.float32)\n",
    "x_train.shape"
   ]
  },
  {
   "cell_type": "code",
   "execution_count": 5,
   "metadata": {},
   "outputs": [
    {
     "data": {
      "text/plain": [
       "(11, 1)"
      ]
     },
     "execution_count": 5,
     "metadata": {},
     "output_type": "execute_result"
    }
   ],
   "source": [
    "# IMPORTANT: 2D required\n",
    "x_train = x_train.reshape(-1, 1)\n",
    "x_train.shape"
   ]
  },
  {
   "cell_type": "markdown",
   "metadata": {},
   "source": [
    "$y = 2x + 1$"
   ]
  },
  {
   "cell_type": "code",
   "execution_count": 6,
   "metadata": {
    "collapsed": true
   },
   "outputs": [],
   "source": [
    "y_values = [2*i + 1 for i in x_values]"
   ]
  },
  {
   "cell_type": "code",
   "execution_count": 7,
   "metadata": {},
   "outputs": [
    {
     "data": {
      "text/plain": [
       "[1, 3, 5, 7, 9, 11, 13, 15, 17, 19, 21]"
      ]
     },
     "execution_count": 7,
     "metadata": {},
     "output_type": "execute_result"
    }
   ],
   "source": [
    "y_values"
   ]
  },
  {
   "cell_type": "code",
   "execution_count": 8,
   "metadata": {
    "collapsed": true
   },
   "outputs": [],
   "source": [
    "# In case you're weak in list iterators...\n",
    "y_values = []\n",
    "for i in x_values:\n",
    "    result = 2*i + 1\n",
    "    y_values.append(result) "
   ]
  },
  {
   "cell_type": "code",
   "execution_count": 9,
   "metadata": {},
   "outputs": [
    {
     "data": {
      "text/plain": [
       "[1, 3, 5, 7, 9, 11, 13, 15, 17, 19, 21]"
      ]
     },
     "execution_count": 9,
     "metadata": {},
     "output_type": "execute_result"
    }
   ],
   "source": [
    "y_values"
   ]
  },
  {
   "cell_type": "code",
   "execution_count": 10,
   "metadata": {},
   "outputs": [
    {
     "data": {
      "text/plain": [
       "(11,)"
      ]
     },
     "execution_count": 10,
     "metadata": {},
     "output_type": "execute_result"
    }
   ],
   "source": [
    "y_train = np.array(y_values, dtype=np.float32)\n",
    "y_train.shape"
   ]
  },
  {
   "cell_type": "code",
   "execution_count": 11,
   "metadata": {},
   "outputs": [
    {
     "data": {
      "text/plain": [
       "(11, 1)"
      ]
     },
     "execution_count": 11,
     "metadata": {},
     "output_type": "execute_result"
    }
   ],
   "source": [
    "# IMPORTANT: 2D required\n",
    "y_train = y_train.reshape(-1, 1)\n",
    "y_train.shape"
   ]
  },
  {
   "cell_type": "markdown",
   "metadata": {},
   "source": [
    "### 2.3 Building Model"
   ]
  },
  {
   "cell_type": "markdown",
   "metadata": {},
   "source": [
    "**Critical Imports**"
   ]
  },
  {
   "cell_type": "code",
   "execution_count": 13,
   "metadata": {
    "collapsed": true
   },
   "outputs": [],
   "source": [
    "import torch\n",
    "import torch.nn as nn\n",
    "from torch.autograd import Variable"
   ]
  },
  {
   "cell_type": "markdown",
   "metadata": {},
   "source": [
    "**Create Model**\n",
    "1. Linear model\n",
    "    - True Equation: $y = 2x + 1$\n",
    "2. Forward\n",
    "    - Example\n",
    "        - Input $x = 1 $\n",
    "        - Output $\\hat y = ?$"
   ]
  },
  {
   "cell_type": "code",
   "execution_count": 14,
   "metadata": {
    "collapsed": true
   },
   "outputs": [],
   "source": [
    "# Create class\n",
    "class LinearRegressionModel(nn.Module):\n",
    "    def __init__(self, input_dim, output_dim):\n",
    "        super(LinearRegressionModel, self).__init__()\n",
    "        self.linear = nn.Linear(input_dim, output_dim)  \n",
    "    \n",
    "    def forward(self, x):\n",
    "        out = self.linear(x)\n",
    "        return out"
   ]
  },
  {
   "cell_type": "markdown",
   "metadata": {},
   "source": [
    "**Instantiate Model Class**\n",
    "- input: [0, 1, 2, 3, 4, 5, 6, 7, 8, 9, 10]\n",
    "- desired output: [1, 3, 5, 7, 9, 11, 13, 15, 17, 19, 21]"
   ]
  },
  {
   "cell_type": "code",
   "execution_count": 15,
   "metadata": {
    "collapsed": true
   },
   "outputs": [],
   "source": [
    "input_dim = 1\n",
    "output_dim = 1\n",
    "\n",
    "model = LinearRegressionModel(input_dim, output_dim)"
   ]
  },
  {
   "cell_type": "markdown",
   "metadata": {},
   "source": [
    "**Instantiate Loss Class**\n",
    "- MSE Loss: Mean Squared Error\n",
    "- $MSE = \\frac{1}{n} \\sum_{i=1}^n(\\hat y_i - y_i)$\n",
    "    - $\\hat y$: prediction\n",
    "    - $y$: true value"
   ]
  },
  {
   "cell_type": "code",
   "execution_count": 17,
   "metadata": {
    "collapsed": true
   },
   "outputs": [],
   "source": [
    "criterion = nn.MSELoss()"
   ]
  },
  {
   "cell_type": "markdown",
   "metadata": {},
   "source": [
    "**Instantiate Optimizer Class**\n",
    "- Simplified equation\n",
    "    - $\\theta = \\theta - \\eta \\cdot \\nabla_\\theta $\n",
    "        - $\\theta$: parameters (our variables)\n",
    "        - $\\eta$: learning rate (how fast we want to learn)\n",
    "        - $\\nabla_\\theta$: parameters' gradients\n",
    "- Even simplier equation\n",
    "    - `parameters = parameters - learning_rate * parameters_gradients`\n",
    "        - parameters: $\\alpha$ and $\\beta$ in $ y = \\alpha x + \\beta$\n",
    "        - desired parameters: $\\alpha = 2$ and $\\beta = 1$ in $ y = 2x + 1$"
   ]
  },
  {
   "cell_type": "code",
   "execution_count": 18,
   "metadata": {
    "collapsed": true
   },
   "outputs": [],
   "source": [
    "learning_rate = 0.01\n",
    "\n",
    "optimizer = torch.optim.SGD(model.parameters(), lr=learning_rate)"
   ]
  },
  {
   "cell_type": "markdown",
   "metadata": {},
   "source": [
    "**Train Model**\n",
    "- 1 epoch: going through the whole x_train data once\n",
    "    - 100 epochs: \n",
    "        - 100x mapping `x_train = [0, 1, 2, 3, 4, 5, 6, 7, 8, 9, 10]`\n",
    "        \n",
    "- Process \n",
    "    1. Convert inputs/labels to tensors with gradients\n",
    "    2. Clear gradient buffets\n",
    "    3. Get output given inputs \n",
    "    4. Get loss\n",
    "    5. Get gradients w.r.t. parameters\n",
    "    6. Update parameters using gradients\n",
    "        - `parameters = parameters - learning_rate * parameters_gradients`\n",
    "    7. REPEAT"
   ]
  },
  {
   "cell_type": "code",
   "execution_count": 19,
   "metadata": {
    "collapsed": true
   },
   "outputs": [],
   "source": [
    "epochs = 100"
   ]
  },
  {
   "cell_type": "code",
   "execution_count": 24,
   "metadata": {
    "scrolled": true
   },
   "outputs": [
    {
     "name": "stdout",
     "output_type": "stream",
     "text": [
      "epoch 1, loss 5.488742351531982\n",
      "epoch 2, loss 0.9309054017066956\n",
      "epoch 3, loss 0.5537410974502563\n",
      "epoch 4, loss 0.5176412463188171\n",
      "epoch 5, loss 0.5094209313392639\n",
      "epoch 6, loss 0.503533124923706\n",
      "epoch 7, loss 0.4978938400745392\n",
      "epoch 8, loss 0.49233272671699524\n",
      "epoch 9, loss 0.4868347942829132\n",
      "epoch 10, loss 0.4813983738422394\n",
      "epoch 11, loss 0.4760226905345917\n",
      "epoch 12, loss 0.4707070291042328\n",
      "epoch 13, loss 0.4654509425163269\n",
      "epoch 14, loss 0.46025320887565613\n",
      "epoch 15, loss 0.45511385798454285\n",
      "epoch 16, loss 0.45003125071525574\n",
      "epoch 17, loss 0.4450059235095978\n",
      "epoch 18, loss 0.4400363862514496\n",
      "epoch 19, loss 0.43512293696403503\n",
      "epoch 20, loss 0.43026426434516907\n",
      "epoch 21, loss 0.4254593551158905\n",
      "epoch 22, loss 0.4207083582878113\n",
      "epoch 23, loss 0.4160100221633911\n",
      "epoch 24, loss 0.41136452555656433\n",
      "epoch 25, loss 0.406770795583725\n",
      "epoch 26, loss 0.4022289216518402\n",
      "epoch 27, loss 0.3977372348308563\n",
      "epoch 28, loss 0.3932957351207733\n",
      "epoch 29, loss 0.38890397548675537\n",
      "epoch 30, loss 0.38456085324287415\n",
      "epoch 31, loss 0.38026687502861023\n",
      "epoch 32, loss 0.3760201334953308\n",
      "epoch 33, loss 0.37182101607322693\n",
      "epoch 34, loss 0.36766913533210754\n",
      "epoch 35, loss 0.363563597202301\n",
      "epoch 36, loss 0.35950368642807007\n",
      "epoch 37, loss 0.35548898577690125\n",
      "epoch 38, loss 0.3515195846557617\n",
      "epoch 39, loss 0.3475937843322754\n",
      "epoch 40, loss 0.34371262788772583\n",
      "epoch 41, loss 0.3398740589618683\n",
      "epoch 42, loss 0.3360789716243744\n",
      "epoch 43, loss 0.3323259651660919\n",
      "epoch 44, loss 0.32861506938934326\n",
      "epoch 45, loss 0.3249454200267792\n",
      "epoch 46, loss 0.3213166892528534\n",
      "epoch 47, loss 0.3177286386489868\n",
      "epoch 48, loss 0.3141808807849884\n",
      "epoch 49, loss 0.31067243218421936\n",
      "epoch 50, loss 0.3072032332420349\n",
      "epoch 51, loss 0.3037724792957306\n",
      "epoch 52, loss 0.30038049817085266\n",
      "epoch 53, loss 0.29702627658843994\n",
      "epoch 54, loss 0.29370906949043274\n",
      "epoch 55, loss 0.2904292047023773\n",
      "epoch 56, loss 0.28718623518943787\n",
      "epoch 57, loss 0.28397923707962036\n",
      "epoch 58, loss 0.28080809116363525\n",
      "epoch 59, loss 0.27767235040664673\n",
      "epoch 60, loss 0.27457162737846375\n",
      "epoch 61, loss 0.2715055048465729\n",
      "epoch 62, loss 0.26847389340400696\n",
      "epoch 63, loss 0.26547566056251526\n",
      "epoch 64, loss 0.26251134276390076\n",
      "epoch 65, loss 0.25957977771759033\n",
      "epoch 66, loss 0.2566811144351959\n",
      "epoch 67, loss 0.25381484627723694\n",
      "epoch 68, loss 0.2509804964065552\n",
      "epoch 69, loss 0.24817775189876556\n",
      "epoch 70, loss 0.24540619552135468\n",
      "epoch 71, loss 0.2426658719778061\n",
      "epoch 72, loss 0.23995620012283325\n",
      "epoch 73, loss 0.2372766137123108\n",
      "epoch 74, loss 0.23462699353694916\n",
      "epoch 75, loss 0.23200693726539612\n",
      "epoch 76, loss 0.22941619157791138\n",
      "epoch 77, loss 0.22685417532920837\n",
      "epoch 78, loss 0.2243211269378662\n",
      "epoch 79, loss 0.221816286444664\n",
      "epoch 80, loss 0.21933913230895996\n",
      "epoch 81, loss 0.21688981354236603\n",
      "epoch 82, loss 0.2144676297903061\n",
      "epoch 83, loss 0.21207267045974731\n",
      "epoch 84, loss 0.2097046822309494\n",
      "epoch 85, loss 0.2073630839586258\n",
      "epoch 86, loss 0.20504745841026306\n",
      "epoch 87, loss 0.20275749266147614\n",
      "epoch 88, loss 0.20049352943897247\n",
      "epoch 89, loss 0.19825458526611328\n",
      "epoch 90, loss 0.19604067504405975\n",
      "epoch 91, loss 0.19385138154029846\n",
      "epoch 92, loss 0.19168691337108612\n",
      "epoch 93, loss 0.18954643607139587\n",
      "epoch 94, loss 0.1874295175075531\n",
      "epoch 95, loss 0.18533669412136078\n",
      "epoch 96, loss 0.18326707184314728\n",
      "epoch 97, loss 0.1812206506729126\n",
      "epoch 98, loss 0.1791967749595642\n",
      "epoch 99, loss 0.17719584703445435\n",
      "epoch 100, loss 0.1752171665430069\n"
     ]
    }
   ],
   "source": [
    "for epoch in range(epochs):\n",
    "    epoch += 1\n",
    "    # Convert numpy array to torch Variable\n",
    "    inputs = Variable(torch.from_numpy(x_train))\n",
    "    labels = Variable(torch.from_numpy(y_train))\n",
    "\n",
    "    # Clear gradients w.r.t. parameters\n",
    "    optimizer.zero_grad() \n",
    "    \n",
    "    # Forward to get output\n",
    "    outputs = model(inputs)\n",
    "    \n",
    "    # Calculate Loss\n",
    "    loss = criterion(outputs, labels)\n",
    "    \n",
    "    # Getting gradients w.r.t. parameters\n",
    "    loss.backward()\n",
    "    \n",
    "    # Updating parameters\n",
    "    optimizer.step()\n",
    "    \n",
    "    print('epoch {}, loss {}'.format(epoch, loss.data[0]))"
   ]
  },
  {
   "cell_type": "markdown",
   "metadata": {},
   "source": [
    "**Compare Data**"
   ]
  },
  {
   "cell_type": "code",
   "execution_count": 26,
   "metadata": {},
   "outputs": [
    {
     "data": {
      "text/plain": [
       "array([[  0.22133885],\n",
       "       [  2.33347297],\n",
       "       [  4.44560719],\n",
       "       [  6.55774164],\n",
       "       [  8.6698761 ],\n",
       "       [ 10.78201008],\n",
       "       [ 12.89414501],\n",
       "       [ 15.00627899],\n",
       "       [ 17.11841202],\n",
       "       [ 19.23054695],\n",
       "       [ 21.34267998]], dtype=float32)"
      ]
     },
     "execution_count": 26,
     "metadata": {},
     "output_type": "execute_result"
    }
   ],
   "source": [
    "# Purely inference\n",
    "predicted = model(Variable(torch.from_numpy(x_train))).data.numpy()\n",
    "predicted"
   ]
  },
  {
   "cell_type": "code",
   "execution_count": 27,
   "metadata": {},
   "outputs": [
    {
     "data": {
      "text/plain": [
       "array([[  1.],\n",
       "       [  3.],\n",
       "       [  5.],\n",
       "       [  7.],\n",
       "       [  9.],\n",
       "       [ 11.],\n",
       "       [ 13.],\n",
       "       [ 15.],\n",
       "       [ 17.],\n",
       "       [ 19.],\n",
       "       [ 21.]], dtype=float32)"
      ]
     },
     "execution_count": 27,
     "metadata": {},
     "output_type": "execute_result"
    }
   ],
   "source": [
    "# y = 2x + 1 \n",
    "y_train"
   ]
  },
  {
   "cell_type": "markdown",
   "metadata": {},
   "source": [
    "**Plot Graph**"
   ]
  },
  {
   "cell_type": "code",
   "execution_count": 29,
   "metadata": {},
   "outputs": [
    {
     "data": {
      "image/png": "[encoded data removed]",
      "text/plain": [
       "<matplotlib.figure.Figure at 0x7fd76e6b4358>"
      ]
     },
     "metadata": {},
     "output_type": "display_data"
    }
   ],
   "source": [
    "# Clear figure\n",
    "plt.clf()\n",
    "\n",
    "# Get predictions\n",
    "predicted = model(Variable(torch.from_numpy(x_train))).data.numpy()\n",
    "\n",
    "# Plot true data\n",
    "plt.plot(x_train, y_train, 'go', label='True data', alpha=0.5)\n",
    "\n",
    "# Plot predictions\n",
    "plt.plot(x_train, predicted, '--', label='Predictions', alpha=0.5)\n",
    "\n",
    "# Legend and plot\n",
    "plt.legend(loc='best')\n",
    "plt.show()"
   ]
  },
  {
   "cell_type": "markdown",
   "metadata": {},
   "source": [
    "**Save Model**"
   ]
  },
  {
   "cell_type": "code",
   "execution_count": 22,
   "metadata": {
    "collapsed": true
   },
   "outputs": [],
   "source": [
    "save_model = False\n",
    "if save_model is True:\n",
    "    # Saves only parameters\n",
    "    # alpha & beta\n",
    "    torch.save(model.state_dict(), 'awesome_model.pkl')"
   ]
  },
  {
   "cell_type": "markdown",
   "metadata": {},
   "source": [
    "**Load Model**"
   ]
  },
  {
   "cell_type": "code",
   "execution_count": 23,
   "metadata": {
    "collapsed": true
   },
   "outputs": [],
   "source": [
    "load_model = False\n",
    "if load_model is True:\n",
    "    model.load_state_dict(torch.load('awesome_model.pkl'))"
   ]
  },
  {
   "cell_type": "markdown",
   "metadata": {},
   "source": [
    "## 3. Building a Linear Regression Model with PyTorch (GPU)\n",
    "\n"
   ]
  },
  {
   "cell_type": "markdown",
   "metadata": {},
   "source": [
    "**CPU Summary**"
   ]
  },
  {
   "cell_type": "code",
   "execution_count": 31,
   "metadata": {},
   "outputs": [],
   "source": [
    "import torch\n",
    "import torch.nn as nn\n",
    "\n",
    "'''\n",
    "STEP 1: CREATE MODEL CLASS\n",
    "'''\n",
    "class LinearRegressionModel(nn.Module):\n",
    "    def __init__(self, input_dim, output_dim):\n",
    "        super(LinearRegressionModel, self).__init__()\n",
    "        self.linear = nn.Linear(input_dim, output_dim)  \n",
    "    \n",
    "    def forward(self, x):\n",
    "        out = self.linear(x)\n",
    "        return out\n",
    "\n",
    "'''\n",
    "STEP 2: INSTANTIATE MODEL CLASS\n",
    "'''\n",
    "input_dim = 1\n",
    "output_dim = 1\n",
    "\n",
    "model = LinearRegressionModel(input_dim, output_dim)\n",
    "\n",
    "'''\n",
    "STEP 3: INSTANTIATE LOSS CLASS\n",
    "'''\n",
    "\n",
    "criterion = nn.MSELoss()\n",
    "\n",
    "'''\n",
    "STEP 4: INSTANTIATE OPTIMIZER CLASS\n",
    "'''\n",
    "\n",
    "learning_rate = 0.01\n",
    "\n",
    "optimizer = torch.optim.SGD(model.parameters(), lr=learning_rate)\n",
    "\n",
    "'''\n",
    "STEP 5: TRAIN THE MODEL\n",
    "'''\n",
    "epochs = 100\n",
    "for epoch in range(epochs):\n",
    "    epoch += 1\n",
    "    # Convert numpy array to torch Variable\n",
    "    inputs = Variable(torch.from_numpy(x_train))\n",
    "    labels = Variable(torch.from_numpy(y_train))\n",
    "\n",
    "    # Clear gradients w.r.t. parameters\n",
    "    optimizer.zero_grad() \n",
    "    \n",
    "    # Forward to get output\n",
    "    outputs = model(inputs)\n",
    "    \n",
    "    # Calculate Loss\n",
    "    loss = criterion(outputs, labels)\n",
    "    \n",
    "    # Getting gradients w.r.t. parameters\n",
    "    loss.backward()\n",
    "    \n",
    "    # Updating parameters\n",
    "    optimizer.step()"
   ]
  },
  {
   "cell_type": "markdown",
   "metadata": {},
   "source": [
    "GPU: 2 things must be on GPU\n",
    "- `model`\n",
    "- `tensors with gradients`"
   ]
  },
  {
   "cell_type": "code",
   "execution_count": 35,
   "metadata": {},
   "outputs": [
    {
     "name": "stdout",
     "output_type": "stream",
     "text": [
      "epoch 1, loss 311.9888000488281\n",
      "epoch 2, loss 25.992170333862305\n",
      "epoch 3, loss 2.658254861831665\n",
      "epoch 4, loss 0.7489710450172424\n",
      "epoch 5, loss 0.5872949957847595\n",
      "epoch 6, loss 0.5682318210601807\n",
      "epoch 7, loss 0.5608657598495483\n",
      "epoch 8, loss 0.5545195937156677\n",
      "epoch 9, loss 0.5483205914497375\n",
      "epoch 10, loss 0.5421971678733826\n",
      "epoch 11, loss 0.5361425280570984\n",
      "epoch 12, loss 0.5301553606987\n",
      "epoch 13, loss 0.5242351293563843\n",
      "epoch 14, loss 0.5183811783790588\n",
      "epoch 15, loss 0.5125927329063416\n",
      "epoch 16, loss 0.506868302822113\n",
      "epoch 17, loss 0.5012083649635315\n",
      "epoch 18, loss 0.4956115484237671\n",
      "epoch 19, loss 0.49007731676101685\n",
      "epoch 20, loss 0.4846043288707733\n",
      "epoch 21, loss 0.4791930317878723\n",
      "epoch 22, loss 0.4738418459892273\n",
      "epoch 23, loss 0.4685504138469696\n",
      "epoch 24, loss 0.4633180797100067\n",
      "epoch 25, loss 0.4581444561481476\n",
      "epoch 26, loss 0.4530283212661743\n",
      "epoch 27, loss 0.447969526052475\n",
      "epoch 28, loss 0.44296738505363464\n",
      "epoch 29, loss 0.4380207359790802\n",
      "epoch 30, loss 0.43312931060791016\n",
      "epoch 31, loss 0.42829257249832153\n",
      "epoch 32, loss 0.4235101044178009\n",
      "epoch 33, loss 0.4187808036804199\n",
      "epoch 34, loss 0.4141041040420532\n",
      "epoch 35, loss 0.40947991609573364\n",
      "epoch 36, loss 0.40490731596946716\n",
      "epoch 37, loss 0.4003855586051941\n",
      "epoch 38, loss 0.39591485261917114\n",
      "epoch 39, loss 0.3914933502674103\n",
      "epoch 40, loss 0.38712164759635925\n",
      "epoch 41, loss 0.382798969745636\n",
      "epoch 42, loss 0.3785242736339569\n",
      "epoch 43, loss 0.37429723143577576\n",
      "epoch 44, loss 0.37011778354644775\n",
      "epoch 45, loss 0.36598464846611023\n",
      "epoch 46, loss 0.36189764738082886\n",
      "epoch 47, loss 0.35785675048828125\n",
      "epoch 48, loss 0.3538605868816376\n",
      "epoch 49, loss 0.34990885853767395\n",
      "epoch 50, loss 0.34600162506103516\n",
      "epoch 51, loss 0.34213787317276\n",
      "epoch 52, loss 0.3383171856403351\n",
      "epoch 53, loss 0.3345392048358917\n",
      "epoch 54, loss 0.33080336451530457\n",
      "epoch 55, loss 0.32710957527160645\n",
      "epoch 56, loss 0.3234565854072571\n",
      "epoch 57, loss 0.31984472274780273\n",
      "epoch 58, loss 0.316273033618927\n",
      "epoch 59, loss 0.3127409815788269\n",
      "epoch 60, loss 0.30924874544143677\n",
      "epoch 61, loss 0.3057953417301178\n",
      "epoch 62, loss 0.30238085985183716\n",
      "epoch 63, loss 0.29900428652763367\n",
      "epoch 64, loss 0.29566508531570435\n",
      "epoch 65, loss 0.29236340522766113\n",
      "epoch 66, loss 0.28909897804260254\n",
      "epoch 67, loss 0.2858702838420868\n",
      "epoch 68, loss 0.28267809748649597\n",
      "epoch 69, loss 0.2795216143131256\n",
      "epoch 70, loss 0.27639999985694885\n",
      "epoch 71, loss 0.2733135223388672\n",
      "epoch 72, loss 0.27026137709617615\n",
      "epoch 73, loss 0.2672436237335205\n",
      "epoch 74, loss 0.26425933837890625\n",
      "epoch 75, loss 0.2613084018230438\n",
      "epoch 76, loss 0.25839054584503174\n",
      "epoch 77, loss 0.2555052638053894\n",
      "epoch 78, loss 0.2526516616344452\n",
      "epoch 79, loss 0.24983063340187073\n",
      "epoch 80, loss 0.24704064428806305\n",
      "epoch 81, loss 0.24428211152553558\n",
      "epoch 82, loss 0.24155420064926147\n",
      "epoch 83, loss 0.238856703042984\n",
      "epoch 84, loss 0.23618966341018677\n",
      "epoch 85, loss 0.23355217278003693\n",
      "epoch 86, loss 0.2309437245130539\n",
      "epoch 87, loss 0.22836481034755707\n",
      "epoch 88, loss 0.22581501305103302\n",
      "epoch 89, loss 0.22329331934452057\n",
      "epoch 90, loss 0.22079992294311523\n",
      "epoch 91, loss 0.21833394467830658\n",
      "epoch 92, loss 0.21589598059654236\n",
      "epoch 93, loss 0.21348515152931213\n",
      "epoch 94, loss 0.21110118925571442\n",
      "epoch 95, loss 0.20874366164207458\n",
      "epoch 96, loss 0.20641273260116577\n",
      "epoch 97, loss 0.20410780608654022\n",
      "epoch 98, loss 0.20182862877845764\n",
      "epoch 99, loss 0.199574813246727\n",
      "epoch 100, loss 0.1973460614681244\n"
     ]
    }
   ],
   "source": [
    "import torch\n",
    "import torch.nn as nn\n",
    "import numpy as np\n",
    "\n",
    "'''\n",
    "STEP 1: CREATE MODEL CLASS\n",
    "'''\n",
    "class LinearRegressionModel(nn.Module):\n",
    "    def __init__(self, input_dim, output_dim):\n",
    "        super(LinearRegressionModel, self).__init__()\n",
    "        self.linear = nn.Linear(input_dim, output_dim)  \n",
    "    \n",
    "    def forward(self, x):\n",
    "        out = self.linear(x)\n",
    "        return out\n",
    "\n",
    "'''\n",
    "STEP 2: INSTANTIATE MODEL CLASS\n",
    "'''\n",
    "input_dim = 1\n",
    "output_dim = 1\n",
    "\n",
    "model = LinearRegressionModel(input_dim, output_dim)\n",
    "\n",
    "\n",
    "#######################\n",
    "#  USE GPU FOR MODEL  #\n",
    "#######################\n",
    "\n",
    "if torch.cuda.is_available():\n",
    "    model.cuda()\n",
    "\n",
    "'''\n",
    "STEP 3: INSTANTIATE LOSS CLASS\n",
    "'''\n",
    "\n",
    "criterion = nn.MSELoss()\n",
    "\n",
    "'''\n",
    "STEP 4: INSTANTIATE OPTIMIZER CLASS\n",
    "'''\n",
    "\n",
    "learning_rate = 0.01\n",
    "\n",
    "optimizer = torch.optim.SGD(model.parameters(), lr=learning_rate)\n",
    "\n",
    "'''\n",
    "STEP 5: TRAIN THE MODEL\n",
    "'''\n",
    "epochs = 100\n",
    "for epoch in range(epochs):\n",
    "    epoch += 1\n",
    "    # Convert numpy array to torch Variable\n",
    "    \n",
    "    #######################\n",
    "    #  USE GPU FOR MODEL  #\n",
    "    #######################\n",
    "    if torch.cuda.is_available():\n",
    "        inputs = Variable(torch.from_numpy(x_train).cuda())\n",
    "        labels = Variable(torch.from_numpy(y_train).cuda())\n",
    "    else:\n",
    "        inputs = Variable(torch.from_numpy(x_train))\n",
    "        labels = Variable(torch.from_numpy(y_train))\n",
    "\n",
    "\n",
    "    # Clear gradients w.r.t. parameters\n",
    "    optimizer.zero_grad() \n",
    "    \n",
    "    # Forward to get output\n",
    "    outputs = model(inputs)\n",
    "    \n",
    "    # Calculate Loss\n",
    "    loss = criterion(outputs, labels)\n",
    "    \n",
    "    # Getting gradients w.r.t. parameters\n",
    "    loss.backward()\n",
    "    \n",
    "    # Updating parameters\n",
    "    optimizer.step()\n",
    "    \n",
    "    # Logging\n",
    "    print('epoch {}, loss {}'.format(epoch, loss.data[0]))"
   ]
  },
  {
   "cell_type": "markdown",
   "metadata": {},
   "source": [
    "# Summary"
   ]
  },
  {
   "cell_type": "markdown",
   "metadata": {},
   "source": [
    "- Simple **linear regression basics**\n",
    "    - $y = Ax + B$\n",
    "    - $y = 2x + 1$\n",
    "- **Example** of simple linear regression\n",
    "- **Aim** of linear regression\n",
    "    - Minimizing distance between the points and the line\n",
    "        - Calculate \"distance\" through `MSE`\n",
    "        - Calculate `gradients`\n",
    "        - Update parameters with `parameters = parameters - learning_rate * gradients`\n",
    "        - Slowly update parameters $A$ and $B$ model the linear relationship between $y$ and $x$ of the form $y = 2x + 1$\n",
    "- Built a linear regression **model** in **CPU and GPU**\n",
    "    - Step 1: Create Model Class\n",
    "    - Step 2: Instantiate Model Class\n",
    "    - Step 3: Instantiate Loss Class\n",
    "    - Step 4: Instantiate Optimizer Class\n",
    "    - Step 5: Train Model\n",
    "- Important things to be on **GPU**\n",
    "    - `model`\n",
    "    - `tensors with gradients`\n",
    "- How to bring to **GPU**?\n",
    "    - `model_name.cuda()`\n",
    "    - `variable_name.cuda()`"
   ]
  }
 ],
 "metadata": {
  "anaconda-cloud": {},
  "kernelspec": {
   "display_name": "Python 3",
   "language": "python",
   "name": "python3"
  },
  "language_info": {
   "codemirror_mode": {
    "name": "ipython",
    "version": 3
   },
   "file_extension": ".py",
   "mimetype": "text/x-python",
   "name": "python",
   "nbconvert_exporter": "python",
   "pygments_lexer": "ipython3",
   "version": "3.6.2"
  }
 },
 "nbformat": 4,
 "nbformat_minor": 1
}
